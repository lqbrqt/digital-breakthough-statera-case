{
 "cells": [
  {
   "cell_type": "code",
   "execution_count": 11,
   "metadata": {},
   "outputs": [],
   "source": [
    "from os import listdir\n",
    "from os.path import isfile, join\n",
    "import json\n",
    "from PIL import Image\n",
    "\n"
   ]
  },
  {
   "cell_type": "markdown",
   "metadata": {},
   "source": [
    "списко файлов для подготовки датасета"
   ]
  },
  {
   "cell_type": "code",
   "execution_count": 12,
   "metadata": {},
   "outputs": [],
   "source": [
    "path_to_img =r\"C:\\Users\\Loinos\\Desktop\\HCP\\full\\images\"#путь к папке с фото\n",
    "path_to_json =r\"C:\\Users\\Loinos\\Desktop\\HCP\\full\\labels\"#нуть к папке с лейблами\n",
    "photos = [f for f in listdir(path_to_img) if isfile(join(path_to_img, f))]\n",
    "\n",
    "jsons = [f for f in listdir(path_to_json) if isfile(join(path_to_json, f))]"
   ]
  },
  {
   "cell_type": "markdown",
   "metadata": {},
   "source": [
    "подготовка данных"
   ]
  },
  {
   "cell_type": "code",
   "execution_count": 8,
   "metadata": {},
   "outputs": [],
   "source": [
    "for photo in photos:\n",
    "    f = open(path_to_json+\"\\\\\"+photo.split(\".\")[0]+\".json\")\n",
    "    data = json.load(f)\n",
    "    sample = Image.open(path_to_img+\"\\\\\"+photo)\n",
    "    my_file = open(\"C:\\\\Users\\\\Loinos\\\\Desktop\\\\HCP\\\\full\\\\yolo\\\\\"+photo.split(\".\")[0]+\".txt\", \"w+\")#путь к папке, где будут сохраняться лейблы в формате для YOLOv8\n",
    "    my_file.write(\"0\"+\" \"+str((float(data[0]['annotations'][0]['coordinates']['x']))/sample.size[0])+\" \"+str((float(data[0]['annotations'][0]['coordinates']['y']))/sample.size[1])+\" \"+str(float(data[0]['annotations'][0]['coordinates']['width'])/sample.size[0])+\" \"+str(float(data[0]['annotations'][0]['coordinates']['height'])/sample.size[1])  )\n",
    "    my_file.close()"
   ]
  }
 ],
 "metadata": {
  "kernelspec": {
   "display_name": "base",
   "language": "python",
   "name": "python3"
  },
  "language_info": {
   "codemirror_mode": {
    "name": "ipython",
    "version": 3
   },
   "file_extension": ".py",
   "mimetype": "text/x-python",
   "name": "python",
   "nbconvert_exporter": "python",
   "pygments_lexer": "ipython3",
   "version": "3.11.4"
  }
 },
 "nbformat": 4,
 "nbformat_minor": 2
}
